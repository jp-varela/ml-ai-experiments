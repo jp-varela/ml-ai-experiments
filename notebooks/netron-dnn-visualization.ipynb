{
  "cells": [
    {
      "cell_type": "markdown",
      "metadata": {},
      "source": [
        "<a href=\"https://colab.research.google.com/github/nfpaiva/ml-ai-experiments/blob/main/notebooks/netron-dnn-visualization.ipynb\" target=\"_parent\"><img src=\"https://colab.research.google.com/assets/colab-badge.svg\" alt=\"Open In Colab\"/></a>"
      ]
    },
    {
      "cell_type": "code",
      "execution_count": null,
      "metadata": {},
      "outputs": [],
      "source": [
        "!pip install -q onnx"
      ]
    },
    {
      "cell_type": "code",
      "execution_count": null,
      "metadata": {
        "id": "Muc0m-bxMnU3"
      },
      "outputs": [],
      "source": [
        "import torch\n",
        "import torch.nn as nn\n",
        "import torch.optim as optim"
      ]
    },
    {
      "cell_type": "code",
      "execution_count": null,
      "metadata": {
        "id": "LMY7Zq1ab2CI"
      },
      "outputs": [],
      "source": [
        "import torch\n",
        "import torch.nn as nn\n",
        "# from torchviz import make_dot\n",
        "from IPython.display import display, Image\n",
        "\n",
        "# Define model for auto insurance unique features\n",
        "class AutoInsuranceModel(nn.Module):\n",
        "    def __init__(self):\n",
        "        super(AutoInsuranceModel, self).__init__()\n",
        "        self.fc1 = nn.Linear(1, 16)  # Assuming 1 unique feature for auto\n",
        "        self.fc2 = nn.Linear(16, 8)\n",
        "\n",
        "    def forward(self, x):\n",
        "        x = nn.functional.relu(self.fc1(x))\n",
        "        x = nn.functional.relu(self.fc2(x))\n",
        "        return x\n",
        "\n",
        "# Define model for home insurance unique features\n",
        "class HomeInsuranceModel(nn.Module):\n",
        "    def __init__(self):\n",
        "        super(HomeInsuranceModel, self).__init__()\n",
        "        self.fc1 = nn.Linear(1, 16)  # Assuming 1 unique feature for home\n",
        "        self.fc2 = nn.Linear(16, 8)\n",
        "\n",
        "    def forward(self, x):\n",
        "        x = nn.functional.relu(self.fc1(x))\n",
        "        x = nn.functional.relu(self.fc2(x))\n",
        "        return x\n",
        "\n",
        "# Define model for common features\n",
        "class CommonFeaturesModel(nn.Module):\n",
        "    def __init__(self):\n",
        "        super(CommonFeaturesModel, self).__init__()\n",
        "        self.fc1 = nn.Linear(2, 16)  # Assuming 2 common features\n",
        "        self.fc2 = nn.Linear(16, 8)\n",
        "\n",
        "    def forward(self, x):\n",
        "        x = nn.functional.relu(self.fc1(x))\n",
        "        x = nn.functional.relu(self.fc2(x))\n",
        "        return x\n",
        "\n",
        "# Define the combined model\n",
        "class CombinedInsuranceModel(nn.Module):\n",
        "    def __init__(self):\n",
        "        super(CombinedInsuranceModel, self).__init__()\n",
        "        self.auto_model = AutoInsuranceModel()\n",
        "        self.home_model = HomeInsuranceModel()\n",
        "        self.common_model = CommonFeaturesModel()\n",
        "        self.fc1 = nn.Linear(24, 8)  # Adjusting input size to match concatenated features\n",
        "        self.fc2 = nn.Linear(8, 1)\n",
        "\n",
        "    def forward(self, common_input, auto_input=None, home_input=None):\n",
        "        common_features = self.common_model(common_input)\n",
        "\n",
        "        if auto_input is not None:\n",
        "            auto_features = self.auto_model(auto_input)\n",
        "        else:\n",
        "            auto_features = torch.zeros_like(common_features)\n",
        "\n",
        "        if home_input is not None:\n",
        "            home_features = self.home_model(home_input)\n",
        "        else:\n",
        "            home_features = torch.zeros_like(common_features)\n",
        "\n",
        "        # Concatenate features from all paths\n",
        "        combined_features = torch.cat((common_features, auto_features, home_features), dim=1)\n",
        "\n",
        "        # Apply linear layers\n",
        "        combined_output = nn.functional.relu(self.fc1(combined_features))\n",
        "        output = torch.sigmoid(self.fc2(combined_output))\n",
        "        return output\n"
      ]
    },
    {
      "cell_type": "code",
      "execution_count": null,
      "metadata": {
        "colab": {
          "base_uri": "https://localhost:8080/"
        },
        "id": "_vKqwro6gw_Q",
        "outputId": "df592c96-c7bc-4fc7-af91-15846c03a28d"
      },
      "outputs": [
        {
          "name": "stdout",
          "output_type": "stream",
          "text": [
            "Model exported to combined_insurance_model.onnx\n"
          ]
        }
      ],
      "source": [
        "# export model to viz at https://netron.app/\n",
        "# Initialize the model\n",
        "model = CombinedInsuranceModel()\n",
        "\n",
        "# Dummy input for exporting the model\n",
        "common_input = torch.randn(1, 2)  # Batch size of 1 and 2 common features\n",
        "auto_input = torch.randn(1, 1)    # Batch size of 1 and 1 auto feature\n",
        "home_input = torch.randn(1, 1)    # Batch size of 1 and 1 home feature\n",
        "\n",
        "# Export the model to an ONNX file\n",
        "torch.onnx.export(model,\n",
        "                  (common_input, auto_input, home_input),\n",
        "                  \"combined_insurance_model.onnx\",\n",
        "                  input_names=['common_input', 'auto_input', 'home_input'],\n",
        "                  output_names=['output'],\n",
        "                  dynamic_axes={'common_input': {0: 'batch_size'},\n",
        "                                'auto_input': {0: 'batch_size'},\n",
        "                                'home_input': {0: 'batch_size'},\n",
        "                                'output': {0: 'batch_size'}})\n",
        "\n",
        "print(\"Model exported to combined_insurance_model.onnx\")"
      ]
    },
    {
      "cell_type": "code",
      "execution_count": null,
      "metadata": {
        "colab": {
          "base_uri": "https://localhost:8080/"
        },
        "id": "Rqy6y3lpMKXu",
        "outputId": "d435a328-8f75-47fe-83ef-7cc26d1e2f3d"
      },
      "outputs": [
        {
          "name": "stdout",
          "output_type": "stream",
          "text": [
            "Epoch [100/1000], Loss: 0.0394\n",
            "Epoch [200/1000], Loss: 0.0045\n",
            "Epoch [300/1000], Loss: 0.0017\n",
            "Epoch [400/1000], Loss: 0.0009\n",
            "Epoch [500/1000], Loss: 0.0006\n",
            "Epoch [600/1000], Loss: 0.0004\n",
            "Epoch [700/1000], Loss: 0.0003\n",
            "Epoch [800/1000], Loss: 0.0002\n",
            "Epoch [900/1000], Loss: 0.0002\n",
            "Epoch [1000/1000], Loss: 0.0001\n",
            "Training complete.\n"
          ]
        }
      ],
      "source": [
        "# Define the model\n",
        "model = CombinedInsuranceModel()\n",
        "\n",
        "# Example data for training\n",
        "common_inputs = torch.tensor([[3, 40], [3, 40]], dtype=torch.float32)  # Batch size of 2, common features\n",
        "auto_inputs = torch.tensor([[15], [0]], dtype=torch.float32)  # Batch size of 2, auto-specific feature (0 for missing)\n",
        "home_inputs = torch.tensor([[0], [30]], dtype=torch.float32)  # Batch size of 2, home-specific feature (0 for missing)\n",
        "targets = torch.tensor([[1], [0]], dtype=torch.float32)  # Target values\n",
        "\n",
        "# Zero out auto/home inputs where not applicable\n",
        "auto_inputs[1, :] = 0  # Set second row (home insurance) auto input to 0\n",
        "home_inputs[0, :] = 0  # Set first row (auto insurance) home input to 0\n",
        "\n",
        "# Define loss function and optimizer\n",
        "criterion = nn.BCELoss()\n",
        "optimizer = optim.Adam(model.parameters(), lr=0.001)\n",
        "\n",
        "# Training loop\n",
        "num_epochs = 1000\n",
        "for epoch in range(num_epochs):\n",
        "    model.train()\n",
        "\n",
        "    # Forward pass\n",
        "    outputs = model(common_inputs, auto_input=auto_inputs, home_input=home_inputs)\n",
        "\n",
        "    # Compute the loss\n",
        "    loss = criterion(outputs, targets)\n",
        "\n",
        "    # Backward pass and optimization\n",
        "    optimizer.zero_grad()\n",
        "    loss.backward()\n",
        "    optimizer.step()\n",
        "\n",
        "    if (epoch+1) % 100 == 0:\n",
        "        print(f'Epoch [{epoch+1}/{num_epochs}], Loss: {loss.item():.4f}')\n",
        "\n",
        "print(\"Training complete.\")\n"
      ]
    },
    {
      "cell_type": "markdown",
      "metadata": {
        "id": "sew_0iZGSKcN"
      },
      "source": []
    }
  ],
  "metadata": {
    "colab": {
      "provenance": []
    },
    "kernelspec": {
      "display_name": "Python 3",
      "name": "python3"
    },
    "language_info": {
      "name": "python"
    }
  },
  "nbformat": 4,
  "nbformat_minor": 0
}
